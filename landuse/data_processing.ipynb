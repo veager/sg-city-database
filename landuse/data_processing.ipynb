{
 "cells": [
  {
   "cell_type": "code",
   "execution_count": 42,
   "id": "d1edc252-288c-4c4d-b851-163162d73180",
   "metadata": {},
   "outputs": [],
   "source": [
    "import numpy as np\n",
    "import pandas as pd\n",
    "import geopandas as gpd"
   ]
  },
  {
   "cell_type": "markdown",
   "id": "4a4cbbd9-464c-4c02-92f9-666c809c9c59",
   "metadata": {},
   "source": [
    "# 1 Data Review"
   ]
  },
  {
   "cell_type": "markdown",
   "id": "3d6c0200-d076-4da9-a7bb-32c04209e911",
   "metadata": {},
   "source": [
    "## 1.0 Read Referred CRS\n",
    "\n",
    "**CRS information:** SVY21, [EPSG:3414](https://www.cnblogs.com/veager/category/2112405.html)\n",
    "\n",
    "Details (Source: [site](https://github.com/veager/Land-Use/blob/main/urban_land_use/sg/sg_crs_SVY21.prj))\n",
    "\n",
    "```\n",
    "PROJCS[\"SVY21\",GEOGCS[\"GCS_WGS_1984\",DATUM[\"D_WGS_1984\",SPHEROID[\"WGS_1984\",6378137.0,298.257223563]],PRIMEM[\"Greenwich\",0.0],UNIT[\"Degree\",0.0174532925199433]],PROJECTION[\"Transverse_Mercator\"],PARAMETER[\"False_Easting\",28001.642],PARAMETER[\"False_Northing\",38744.572],PARAMETER[\"Central_Meridian\",103.8333333333333],PARAMETER[\"Scale_Factor\",1.0],PARAMETER[\"Latitude_Of_Origin\",1.366666666666667],UNIT[\"Meter\",1.0]]\n",
    "```"
   ]
  },
  {
   "cell_type": "code",
   "execution_count": 53,
   "id": "eaaecc91-09c9-4f42-b392-4a9bea4500c3",
   "metadata": {},
   "outputs": [
    {
     "name": "stdout",
     "output_type": "stream",
     "text": [
      "True\n"
     ]
    }
   ],
   "source": [
    "import pyproj\n",
    "\n",
    "ref_crs_wkt = '''\n",
    "PROJCS[\"SVY21\",GEOGCS[\"GCS_WGS_1984\",DATUM[\"D_WGS_1984\",SPHEROID[\"WGS_1984\",6378137.0,298.257223563]],PRIMEM[\"Greenwich\",0.0],UNIT[\"Degree\",0.0174532925199433]],PROJECTION[\"Transverse_Mercator\"],PARAMETER[\"False_Easting\",28001.642],PARAMETER[\"False_Northing\",38744.572],PARAMETER[\"Central_Meridian\",103.8333333333333],PARAMETER[\"Scale_Factor\",1.0],PARAMETER[\"Latitude_Of_Origin\",1.366666666666667],UNIT[\"Meter\",1.0]]'''\n",
    "\n",
    "ref_crs = pyproj.CRS.from_string(ref_crs_wkt)\n",
    "\n",
    "print(ref_crs.is_projected)"
   ]
  },
  {
   "cell_type": "markdown",
   "id": "1142c291-6b2a-4703-8626-9ecc565062e8",
   "metadata": {},
   "source": [
    "## 1.1 Read Land Use"
   ]
  },
  {
   "cell_type": "markdown",
   "id": "86758fa0-91dd-4424-bc5a-890ac7e1ea4e",
   "metadata": {},
   "source": [
    "### 1.1.1 MP 2019"
   ]
  },
  {
   "cell_type": "code",
   "execution_count": 46,
   "id": "6a67ef95-dafa-418b-bbef-f21a0f8f8476",
   "metadata": {},
   "outputs": [
    {
     "name": "stdout",
     "output_type": "stream",
     "text": [
      "True\n",
      "113212 (113212, 3)\n",
      "Index(['type', 'area', 'geometry'], dtype='object')\n"
     ]
    }
   ],
   "source": [
    "file_path = \"zip://data/processed.MP2019-landuse-SVY21.zip!MP2019-landuse-SVY21/MP2019-landuse-SVY21.shp\"\n",
    "landuse_19 = gpd.read_file(file_path)\n",
    "\n",
    "print(landuse_19.columns)\n",
    "\n",
    "# check CRS\n",
    "print(landuse_19.crs.equals(ref_crs))\n",
    "\n",
    "# check valid polygon\n",
    "print(landuse_19.is_valid.sum(), landuse_19.shape)"
   ]
  },
  {
   "cell_type": "markdown",
   "id": "29f8baba-c8ce-41d7-8dd3-3675102dcef2",
   "metadata": {},
   "source": [
    "### 1.1.2 MP 2014"
   ]
  },
  {
   "cell_type": "code",
   "execution_count": 59,
   "id": "c313a5da-e712-4369-9f1a-518c17f1d43f",
   "metadata": {},
   "outputs": [
    {
     "name": "stdout",
     "output_type": "stream",
     "text": [
      "Index(['OBJECTID', 'OID_1', 'LU_DESC', 'LU_TEXT', 'GPR', 'WHI_Q_MX',\n",
      "       'GPR_B_MN', 'INC_CRC', 'FMEL_UPD_D', 'X_ADDR', 'Y_ADDR', 'SHAPE_Leng',\n",
      "       'SHAPE_Area', 'geometry'],\n",
      "      dtype='object')\n",
      "0    2014-06-23\n",
      "Name: FMEL_UPD_D, dtype: object\n",
      "True\n",
      "111440 (111525, 14)\n"
     ]
    },
    {
     "data": {
      "text/plain": [
       "9153      0.000000\n",
       "16139     0.000000\n",
       "71002     0.000000\n",
       "94350     0.000000\n",
       "5665      0.000000\n",
       "            ...   \n",
       "49678     0.000009\n",
       "93007     0.000012\n",
       "102901    0.000017\n",
       "48177     0.000029\n",
       "100545    0.000048\n",
       "Length: 111525, dtype: float64"
      ]
     },
     "execution_count": 59,
     "metadata": {},
     "output_type": "execute_result"
    }
   ],
   "source": [
    "# read landuse\n",
    "file_path = \"zip://data/original.master-plan-2014-land-use-shp.zip!G_MP14_LAND_USE_PL.shp\"\n",
    "landuse_14 = gpd.read_file(file_path)\n",
    "\n",
    "print('columns:', landuse_14.columns.to_list())\n",
    "\n",
    "print(landuse_14['FMEL_UPD_D'].drop_duplicates())\n",
    "\n",
    "# check CRS\n",
    "print('check CRS:', landuse_14.crs.equals(ref_crs))\n",
    "\n",
    "# check valid polygon\n",
    "print('check valid polygon:', landuse_14.is_valid.sum(), landuse_14.shape)\n",
    "\n",
    "# check area\n",
    "(landuse_14['SHAPE_Area'] - landuse_14.area).abs().sort_values()"
   ]
  },
  {
   "cell_type": "code",
   "execution_count": 60,
   "id": "b24fbea6-3901-46bb-8116-23044ac51165",
   "metadata": {},
   "outputs": [
    {
     "name": "stdout",
     "output_type": "stream",
     "text": [
      "9153      0.000000\n",
      "16139     0.000000\n",
      "71002     0.000000\n",
      "94350     0.000000\n",
      "5665      0.000000\n",
      "            ...   \n",
      "49678     0.000009\n",
      "93007     0.000012\n",
      "102901    0.000017\n",
      "48177     0.000029\n",
      "100545    0.000048\n",
      "Length: 111525, dtype: float64\n",
      "True\n",
      "111525 (111525, 14)\n"
     ]
    }
   ],
   "source": [
    "landuse_14['geometry'] = landuse_14['geometry'].buffer(0)\n",
    "\n",
    "# check area\n",
    "print((landuse_14['SHAPE_Area'] - landuse_14.area).abs().sort_values())\n",
    "\n",
    "# check CRS\n",
    "print(landuse_14.crs.equals(ref_crs))\n",
    "\n",
    "# check valid polygon\n",
    "print(landuse_14.is_valid.sum(), landuse_14.shape)\n",
    "\n",
    "# save\n",
    "landuse_14 = landuse_14[['LU_DESC', 'geometry']]\n",
    "landuse_14 = landuse_14.rename({'LU_DESC': 'type'}, axis='columns')\n",
    "landuse_14.to_file('data/MP2014-landuse-SVY21')"
   ]
  },
  {
   "cell_type": "markdown",
   "id": "6dd49d5a-0feb-493d-85ae-1cab311a3b16",
   "metadata": {},
   "source": [
    "### 1.1.3 MP 2008"
   ]
  },
  {
   "cell_type": "code",
   "execution_count": 64,
   "id": "96329292-eed1-4ed3-8949-a1449249839a",
   "metadata": {},
   "outputs": [
    {
     "name": "stdout",
     "output_type": "stream",
     "text": [
      "columns: ['OBJECTID', 'LU_DESC', 'LU_TEXT', 'GPR', 'WHI_Q_MX', 'GPR_B_MN', 'INC_CRC', 'FMEL_UPD_D', 'X_ADDR', 'Y_ADDR', 'SHAPE_Leng', 'SHAPE_Area', 'geometry']\n",
      "0    2012-06-13\n",
      "Name: FMEL_UPD_D, dtype: object\n",
      "check CRS: True\n",
      "check valid polygon: 110785 (110830, 13)\n"
     ]
    },
    {
     "data": {
      "text/plain": [
       "99667     0.000000\n",
       "93790     0.000000\n",
       "87975     0.000000\n",
       "70263     0.000000\n",
       "32536     0.000000\n",
       "            ...   \n",
       "101923    0.000024\n",
       "40785     0.000026\n",
       "77598     0.000029\n",
       "64        0.000034\n",
       "103789    0.000046\n",
       "Length: 110830, dtype: float64"
      ]
     },
     "execution_count": 64,
     "metadata": {},
     "output_type": "execute_result"
    }
   ],
   "source": [
    "# read landuse\n",
    "file_path = \"zip://data/original.mp08-land-use-shp.zip!G_MP08_LAND_USE_PL.shp\"\n",
    "landuse_08 = gpd.read_file(file_path)\n",
    "\n",
    "print('columns:', landuse_08.columns.to_list())\n",
    "\n",
    "print(landuse_08['FMEL_UPD_D'].drop_duplicates())\n",
    "\n",
    "# check CRS\n",
    "print('check CRS:', landuse_08.crs.equals(ref_crs))\n",
    "\n",
    "# check valid polygon\n",
    "print('check valid polygon:', landuse_08.is_valid.sum(), landuse_08.shape)\n",
    "\n",
    "# check area\n",
    "(landuse_08['SHAPE_Area'] - landuse_08.area).abs().sort_values()"
   ]
  },
  {
   "cell_type": "code",
   "execution_count": 65,
   "id": "7c00d6dd-6490-4783-b0d6-101e7b1111ed",
   "metadata": {},
   "outputs": [
    {
     "name": "stdout",
     "output_type": "stream",
     "text": [
      "99667     0.000000\n",
      "93790     0.000000\n",
      "87975     0.000000\n",
      "70263     0.000000\n",
      "32536     0.000000\n",
      "            ...   \n",
      "101923    0.000024\n",
      "40785     0.000026\n",
      "77598     0.000029\n",
      "64        0.000034\n",
      "103789    0.000046\n",
      "Length: 110830, dtype: float64\n",
      "True\n",
      "110830 (110830, 13)\n"
     ]
    }
   ],
   "source": [
    "landuse_08['geometry'] = landuse_08['geometry'].buffer(0)\n",
    "\n",
    "# check area\n",
    "print((landuse_08['SHAPE_Area'] - landuse_08.area).abs().sort_values())\n",
    "\n",
    "# check CRS\n",
    "print(landuse_08.crs.equals(ref_crs))\n",
    "\n",
    "# check valid polygon\n",
    "print(landuse_08.is_valid.sum(), landuse_08.shape)\n",
    "\n",
    "# save\n",
    "landuse_08 = landuse_08[['LU_DESC', 'geometry']]\n",
    "landuse_08 = landuse_08.rename({'LU_DESC': 'type'}, axis='columns')\n",
    "landuse_08.to_file('data/MP2008-landuse-SVY21')"
   ]
  }
 ],
 "metadata": {
  "kernelspec": {
   "display_name": "Python 3 (ipykernel)",
   "language": "python",
   "name": "python3"
  },
  "language_info": {
   "codemirror_mode": {
    "name": "ipython",
    "version": 3
   },
   "file_extension": ".py",
   "mimetype": "text/x-python",
   "name": "python",
   "nbconvert_exporter": "python",
   "pygments_lexer": "ipython3",
   "version": "3.9.13"
  }
 },
 "nbformat": 4,
 "nbformat_minor": 5
}
